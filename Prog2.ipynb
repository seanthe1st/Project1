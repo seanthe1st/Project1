{
 "cells": [
  {
   "cell_type": "code",
   "execution_count": 1,
   "id": "cca3bf31",
   "metadata": {},
   "outputs": [],
   "source": [
    "import pandas as pd\n",
    "import matplotlib.pyplot as plt\n",
    "import seaborn as sns\n",
    "import numpy as np\n",
    "from sklearn.linear_model import LinearRegression\n",
    "from sklearn.metrics import mean_squared_error\n",
    "from sklearn.metrics import mean_absolute_error"
   ]
  },
  {
   "cell_type": "code",
   "execution_count": 2,
   "id": "e9b3ca01",
   "metadata": {},
   "outputs": [
    {
     "data": {
      "text/html": [
       "<div>\n",
       "<style scoped>\n",
       "    .dataframe tbody tr th:only-of-type {\n",
       "        vertical-align: middle;\n",
       "    }\n",
       "\n",
       "    .dataframe tbody tr th {\n",
       "        vertical-align: top;\n",
       "    }\n",
       "\n",
       "    .dataframe thead th {\n",
       "        text-align: right;\n",
       "    }\n",
       "</style>\n",
       "<table border=\"1\" class=\"dataframe\">\n",
       "  <thead>\n",
       "    <tr style=\"text-align: right;\">\n",
       "      <th></th>\n",
       "      <th>Year</th>\n",
       "      <th>Export Value</th>\n",
       "      <th>Poverty</th>\n",
       "      <th>Tax Income</th>\n",
       "      <th>Urban Population</th>\n",
       "      <th>Agriculture, Forestry, Fishing</th>\n",
       "      <th>Exchange Rate to US$</th>\n",
       "      <th>GDP Growth</th>\n",
       "    </tr>\n",
       "  </thead>\n",
       "  <tbody>\n",
       "    <tr>\n",
       "      <th>0</th>\n",
       "      <td>1960</td>\n",
       "      <td>NaN</td>\n",
       "      <td>NaN</td>\n",
       "      <td>NaN</td>\n",
       "      <td>14.586</td>\n",
       "      <td>NaN</td>\n",
       "      <td>NaN</td>\n",
       "      <td>NaN</td>\n",
       "    </tr>\n",
       "    <tr>\n",
       "      <th>1</th>\n",
       "      <td>1961</td>\n",
       "      <td>NaN</td>\n",
       "      <td>NaN</td>\n",
       "      <td>NaN</td>\n",
       "      <td>14.821</td>\n",
       "      <td>NaN</td>\n",
       "      <td>NaN</td>\n",
       "      <td>5.740646</td>\n",
       "    </tr>\n",
       "    <tr>\n",
       "      <th>2</th>\n",
       "      <td>1962</td>\n",
       "      <td>NaN</td>\n",
       "      <td>NaN</td>\n",
       "      <td>NaN</td>\n",
       "      <td>15.058</td>\n",
       "      <td>NaN</td>\n",
       "      <td>NaN</td>\n",
       "      <td>1.841978</td>\n",
       "    </tr>\n",
       "    <tr>\n",
       "      <th>3</th>\n",
       "      <td>1963</td>\n",
       "      <td>NaN</td>\n",
       "      <td>NaN</td>\n",
       "      <td>NaN</td>\n",
       "      <td>15.299</td>\n",
       "      <td>NaN</td>\n",
       "      <td>NaN</td>\n",
       "      <td>-2.237030</td>\n",
       "    </tr>\n",
       "    <tr>\n",
       "      <th>4</th>\n",
       "      <td>1964</td>\n",
       "      <td>NaN</td>\n",
       "      <td>NaN</td>\n",
       "      <td>NaN</td>\n",
       "      <td>15.543</td>\n",
       "      <td>NaN</td>\n",
       "      <td>NaN</td>\n",
       "      <td>3.529698</td>\n",
       "    </tr>\n",
       "    <tr>\n",
       "      <th>...</th>\n",
       "      <td>...</td>\n",
       "      <td>...</td>\n",
       "      <td>...</td>\n",
       "      <td>...</td>\n",
       "      <td>...</td>\n",
       "      <td>...</td>\n",
       "      <td>...</td>\n",
       "      <td>...</td>\n",
       "    </tr>\n",
       "    <tr>\n",
       "      <th>59</th>\n",
       "      <td>2019</td>\n",
       "      <td>NaN</td>\n",
       "      <td>4.4</td>\n",
       "      <td>1960633.60</td>\n",
       "      <td>55.985</td>\n",
       "      <td>12.712603</td>\n",
       "      <td>14130.583333</td>\n",
       "      <td>5.019288</td>\n",
       "    </tr>\n",
       "    <tr>\n",
       "      <th>60</th>\n",
       "      <td>2020</td>\n",
       "      <td>163191.8</td>\n",
       "      <td>3.8</td>\n",
       "      <td>1647783.34</td>\n",
       "      <td>56.641</td>\n",
       "      <td>13.698414</td>\n",
       "      <td>14625.250000</td>\n",
       "      <td>-2.065512</td>\n",
       "    </tr>\n",
       "    <tr>\n",
       "      <th>61</th>\n",
       "      <td>2021</td>\n",
       "      <td>231609.5</td>\n",
       "      <td>3.5</td>\n",
       "      <td>2011347.10</td>\n",
       "      <td>57.290</td>\n",
       "      <td>13.280217</td>\n",
       "      <td>14344.916667</td>\n",
       "      <td>3.703055</td>\n",
       "    </tr>\n",
       "    <tr>\n",
       "      <th>62</th>\n",
       "      <td>2022</td>\n",
       "      <td>291904.3</td>\n",
       "      <td>2.5</td>\n",
       "      <td>2436877.80</td>\n",
       "      <td>57.934</td>\n",
       "      <td>12.399659</td>\n",
       "      <td>14916.750000</td>\n",
       "      <td>5.308595</td>\n",
       "    </tr>\n",
       "    <tr>\n",
       "      <th>63</th>\n",
       "      <td>2023</td>\n",
       "      <td>NaN</td>\n",
       "      <td>NaN</td>\n",
       "      <td>2443592.20</td>\n",
       "      <td>NaN</td>\n",
       "      <td>NaN</td>\n",
       "      <td>15020.571429</td>\n",
       "      <td>NaN</td>\n",
       "    </tr>\n",
       "  </tbody>\n",
       "</table>\n",
       "<p>64 rows × 8 columns</p>\n",
       "</div>"
      ],
      "text/plain": [
       "    Year  Export Value  Poverty  Tax Income  Urban Population  \\\n",
       "0   1960           NaN      NaN         NaN            14.586   \n",
       "1   1961           NaN      NaN         NaN            14.821   \n",
       "2   1962           NaN      NaN         NaN            15.058   \n",
       "3   1963           NaN      NaN         NaN            15.299   \n",
       "4   1964           NaN      NaN         NaN            15.543   \n",
       "..   ...           ...      ...         ...               ...   \n",
       "59  2019           NaN      4.4  1960633.60            55.985   \n",
       "60  2020      163191.8      3.8  1647783.34            56.641   \n",
       "61  2021      231609.5      3.5  2011347.10            57.290   \n",
       "62  2022      291904.3      2.5  2436877.80            57.934   \n",
       "63  2023           NaN      NaN  2443592.20               NaN   \n",
       "\n",
       "    Agriculture, Forestry, Fishing  Exchange Rate to US$  GDP Growth  \n",
       "0                              NaN                   NaN         NaN  \n",
       "1                              NaN                   NaN    5.740646  \n",
       "2                              NaN                   NaN    1.841978  \n",
       "3                              NaN                   NaN   -2.237030  \n",
       "4                              NaN                   NaN    3.529698  \n",
       "..                             ...                   ...         ...  \n",
       "59                       12.712603          14130.583333    5.019288  \n",
       "60                       13.698414          14625.250000   -2.065512  \n",
       "61                       13.280217          14344.916667    3.703055  \n",
       "62                       12.399659          14916.750000    5.308595  \n",
       "63                             NaN          15020.571429         NaN  \n",
       "\n",
       "[64 rows x 8 columns]"
      ]
     },
     "metadata": {},
     "output_type": "display_data"
    }
   ],
   "source": [
    "df = pd.read_excel(('Dataset2.xlsx'),sheet_name=\"Sheet2\")\n",
    "display(df)"
   ]
  },
  {
   "cell_type": "code",
   "execution_count": 3,
   "id": "c34cd48f",
   "metadata": {},
   "outputs": [
    {
     "name": "stdout",
     "output_type": "stream",
     "text": [
      "<class 'pandas.core.frame.DataFrame'>\n",
      "RangeIndex: 64 entries, 0 to 63\n",
      "Data columns (total 8 columns):\n",
      " #   Column                          Non-Null Count  Dtype  \n",
      "---  ------                          --------------  -----  \n",
      " 0   Year                            64 non-null     int64  \n",
      " 1   Export Value                    10 non-null     float64\n",
      " 2   Poverty                         30 non-null     float64\n",
      " 3   Tax Income                      17 non-null     float64\n",
      " 4   Urban Population                63 non-null     float64\n",
      " 5   Agriculture, Forestry, Fishing  40 non-null     float64\n",
      " 6   Exchange Rate to US$            28 non-null     float64\n",
      " 7   GDP Growth                      62 non-null     float64\n",
      "dtypes: float64(7), int64(1)\n",
      "memory usage: 4.1 KB\n"
     ]
    }
   ],
   "source": [
    "df.info()"
   ]
  },
  {
   "cell_type": "code",
   "execution_count": 4,
   "id": "a0564218",
   "metadata": {},
   "outputs": [
    {
     "data": {
      "text/html": [
       "<div>\n",
       "<style scoped>\n",
       "    .dataframe tbody tr th:only-of-type {\n",
       "        vertical-align: middle;\n",
       "    }\n",
       "\n",
       "    .dataframe tbody tr th {\n",
       "        vertical-align: top;\n",
       "    }\n",
       "\n",
       "    .dataframe thead th {\n",
       "        text-align: right;\n",
       "    }\n",
       "</style>\n",
       "<table border=\"1\" class=\"dataframe\">\n",
       "  <thead>\n",
       "    <tr style=\"text-align: right;\">\n",
       "      <th></th>\n",
       "      <th>count</th>\n",
       "      <th>mean</th>\n",
       "      <th>std</th>\n",
       "      <th>min</th>\n",
       "      <th>25%</th>\n",
       "      <th>50%</th>\n",
       "      <th>75%</th>\n",
       "      <th>max</th>\n",
       "    </tr>\n",
       "  </thead>\n",
       "  <tbody>\n",
       "    <tr>\n",
       "      <th>Year</th>\n",
       "      <td>64.0</td>\n",
       "      <td>1.991500e+03</td>\n",
       "      <td>18.618987</td>\n",
       "      <td>1960.000000</td>\n",
       "      <td>1.975750e+03</td>\n",
       "      <td>1.991500e+03</td>\n",
       "      <td>2.007250e+03</td>\n",
       "      <td>2.023000e+03</td>\n",
       "    </tr>\n",
       "    <tr>\n",
       "      <th>Export Value</th>\n",
       "      <td>10.0</td>\n",
       "      <td>1.858177e+05</td>\n",
       "      <td>48928.204328</td>\n",
       "      <td>116510.000000</td>\n",
       "      <td>1.591323e+05</td>\n",
       "      <td>1.792659e+05</td>\n",
       "      <td>2.001275e+05</td>\n",
       "      <td>2.919043e+05</td>\n",
       "    </tr>\n",
       "    <tr>\n",
       "      <th>Poverty</th>\n",
       "      <td>30.0</td>\n",
       "      <td>2.799333e+01</td>\n",
       "      <td>22.694416</td>\n",
       "      <td>2.500000</td>\n",
       "      <td>8.550000e+00</td>\n",
       "      <td>2.465000e+01</td>\n",
       "      <td>4.267500e+01</td>\n",
       "      <td>7.430000e+01</td>\n",
       "    </tr>\n",
       "    <tr>\n",
       "      <th>Tax Income</th>\n",
       "      <td>17.0</td>\n",
       "      <td>1.543869e+06</td>\n",
       "      <td>509289.611025</td>\n",
       "      <td>707806.100000</td>\n",
       "      <td>1.210600e+06</td>\n",
       "      <td>1.550491e+06</td>\n",
       "      <td>1.943675e+06</td>\n",
       "      <td>2.443592e+06</td>\n",
       "    </tr>\n",
       "    <tr>\n",
       "      <th>Urban Population</th>\n",
       "      <td>63.0</td>\n",
       "      <td>3.362443e+01</td>\n",
       "      <td>14.538983</td>\n",
       "      <td>14.586000</td>\n",
       "      <td>1.958500e+01</td>\n",
       "      <td>3.161300e+01</td>\n",
       "      <td>4.713650e+01</td>\n",
       "      <td>5.793400e+01</td>\n",
       "    </tr>\n",
       "    <tr>\n",
       "      <th>Agriculture, Forestry, Fishing</th>\n",
       "      <td>40.0</td>\n",
       "      <td>1.673981e+01</td>\n",
       "      <td>3.959626</td>\n",
       "      <td>12.399659</td>\n",
       "      <td>1.345255e+01</td>\n",
       "      <td>1.548443e+01</td>\n",
       "      <td>1.954423e+01</td>\n",
       "      <td>2.425344e+01</td>\n",
       "    </tr>\n",
       "    <tr>\n",
       "      <th>Exchange Rate to US$</th>\n",
       "      <td>28.0</td>\n",
       "      <td>1.048356e+04</td>\n",
       "      <td>3131.680333</td>\n",
       "      <td>2383.000000</td>\n",
       "      <td>9.039292e+03</td>\n",
       "      <td>9.683333e+03</td>\n",
       "      <td>1.341302e+04</td>\n",
       "      <td>1.502057e+04</td>\n",
       "    </tr>\n",
       "    <tr>\n",
       "      <th>GDP Growth</th>\n",
       "      <td>62.0</td>\n",
       "      <td>5.111197e+00</td>\n",
       "      <td>3.373370</td>\n",
       "      <td>-13.126725</td>\n",
       "      <td>4.646623e+00</td>\n",
       "      <td>5.617591e+00</td>\n",
       "      <td>6.985555e+00</td>\n",
       "      <td>1.091518e+01</td>\n",
       "    </tr>\n",
       "  </tbody>\n",
       "</table>\n",
       "</div>"
      ],
      "text/plain": [
       "                                count          mean            std  \\\n",
       "Year                             64.0  1.991500e+03      18.618987   \n",
       "Export Value                     10.0  1.858177e+05   48928.204328   \n",
       "Poverty                          30.0  2.799333e+01      22.694416   \n",
       "Tax Income                       17.0  1.543869e+06  509289.611025   \n",
       "Urban Population                 63.0  3.362443e+01      14.538983   \n",
       "Agriculture, Forestry, Fishing   40.0  1.673981e+01       3.959626   \n",
       "Exchange Rate to US$             28.0  1.048356e+04    3131.680333   \n",
       "GDP Growth                       62.0  5.111197e+00       3.373370   \n",
       "\n",
       "                                          min           25%           50%  \\\n",
       "Year                              1960.000000  1.975750e+03  1.991500e+03   \n",
       "Export Value                    116510.000000  1.591323e+05  1.792659e+05   \n",
       "Poverty                              2.500000  8.550000e+00  2.465000e+01   \n",
       "Tax Income                      707806.100000  1.210600e+06  1.550491e+06   \n",
       "Urban Population                    14.586000  1.958500e+01  3.161300e+01   \n",
       "Agriculture, Forestry, Fishing      12.399659  1.345255e+01  1.548443e+01   \n",
       "Exchange Rate to US$              2383.000000  9.039292e+03  9.683333e+03   \n",
       "GDP Growth                         -13.126725  4.646623e+00  5.617591e+00   \n",
       "\n",
       "                                         75%           max  \n",
       "Year                            2.007250e+03  2.023000e+03  \n",
       "Export Value                    2.001275e+05  2.919043e+05  \n",
       "Poverty                         4.267500e+01  7.430000e+01  \n",
       "Tax Income                      1.943675e+06  2.443592e+06  \n",
       "Urban Population                4.713650e+01  5.793400e+01  \n",
       "Agriculture, Forestry, Fishing  1.954423e+01  2.425344e+01  \n",
       "Exchange Rate to US$            1.341302e+04  1.502057e+04  \n",
       "GDP Growth                      6.985555e+00  1.091518e+01  "
      ]
     },
     "execution_count": 4,
     "metadata": {},
     "output_type": "execute_result"
    }
   ],
   "source": [
    "df.describe().T"
   ]
  },
  {
   "cell_type": "code",
   "execution_count": 5,
   "id": "fc9501df",
   "metadata": {},
   "outputs": [],
   "source": [
    "df_clean = df.dropna()"
   ]
  },
  {
   "cell_type": "code",
   "execution_count": 6,
   "id": "2e2608d7",
   "metadata": {},
   "outputs": [
    {
     "data": {
      "text/html": [
       "<div>\n",
       "<style scoped>\n",
       "    .dataframe tbody tr th:only-of-type {\n",
       "        vertical-align: middle;\n",
       "    }\n",
       "\n",
       "    .dataframe tbody tr th {\n",
       "        vertical-align: top;\n",
       "    }\n",
       "\n",
       "    .dataframe thead th {\n",
       "        text-align: right;\n",
       "    }\n",
       "</style>\n",
       "<table border=\"1\" class=\"dataframe\">\n",
       "  <thead>\n",
       "    <tr style=\"text-align: right;\">\n",
       "      <th></th>\n",
       "      <th>Year</th>\n",
       "      <th>Export Value</th>\n",
       "      <th>Poverty</th>\n",
       "      <th>Tax Income</th>\n",
       "      <th>Urban Population</th>\n",
       "      <th>Agriculture, Forestry, Fishing</th>\n",
       "      <th>Exchange Rate to US$</th>\n",
       "      <th>GDP Growth</th>\n",
       "    </tr>\n",
       "  </thead>\n",
       "  <tbody>\n",
       "    <tr>\n",
       "      <th>49</th>\n",
       "      <td>2009</td>\n",
       "      <td>116510.0</td>\n",
       "      <td>21.0</td>\n",
       "      <td>848763.20</td>\n",
       "      <td>49.134</td>\n",
       "      <td>15.290148</td>\n",
       "      <td>10356.166667</td>\n",
       "      <td>4.628871</td>\n",
       "    </tr>\n",
       "    <tr>\n",
       "      <th>50</th>\n",
       "      <td>2010</td>\n",
       "      <td>157779.1</td>\n",
       "      <td>18.3</td>\n",
       "      <td>995271.50</td>\n",
       "      <td>49.914</td>\n",
       "      <td>13.929213</td>\n",
       "      <td>9078.250000</td>\n",
       "      <td>6.223854</td>\n",
       "    </tr>\n",
       "    <tr>\n",
       "      <th>51</th>\n",
       "      <td>2011</td>\n",
       "      <td>203496.6</td>\n",
       "      <td>15.7</td>\n",
       "      <td>1210599.70</td>\n",
       "      <td>50.595</td>\n",
       "      <td>13.512287</td>\n",
       "      <td>8773.250000</td>\n",
       "      <td>6.169784</td>\n",
       "    </tr>\n",
       "    <tr>\n",
       "      <th>52</th>\n",
       "      <td>2012</td>\n",
       "      <td>190020.3</td>\n",
       "      <td>13.7</td>\n",
       "      <td>1338109.60</td>\n",
       "      <td>51.276</td>\n",
       "      <td>13.373974</td>\n",
       "      <td>9418.583333</td>\n",
       "      <td>6.030051</td>\n",
       "    </tr>\n",
       "    <tr>\n",
       "      <th>53</th>\n",
       "      <td>2013</td>\n",
       "      <td>182551.8</td>\n",
       "      <td>11.2</td>\n",
       "      <td>1438891.10</td>\n",
       "      <td>51.955</td>\n",
       "      <td>13.356699</td>\n",
       "      <td>10562.666667</td>\n",
       "      <td>5.557264</td>\n",
       "    </tr>\n",
       "    <tr>\n",
       "      <th>54</th>\n",
       "      <td>2014</td>\n",
       "      <td>175980.0</td>\n",
       "      <td>9.3</td>\n",
       "      <td>1550490.80</td>\n",
       "      <td>52.635</td>\n",
       "      <td>13.336755</td>\n",
       "      <td>11884.500000</td>\n",
       "      <td>5.006668</td>\n",
       "    </tr>\n",
       "    <tr>\n",
       "      <th>56</th>\n",
       "      <td>2016</td>\n",
       "      <td>145134.0</td>\n",
       "      <td>7.5</td>\n",
       "      <td>1555934.20</td>\n",
       "      <td>53.989</td>\n",
       "      <td>13.478749</td>\n",
       "      <td>13329.833333</td>\n",
       "      <td>5.033069</td>\n",
       "    </tr>\n",
       "    <tr>\n",
       "      <th>60</th>\n",
       "      <td>2020</td>\n",
       "      <td>163191.8</td>\n",
       "      <td>3.8</td>\n",
       "      <td>1647783.34</td>\n",
       "      <td>56.641</td>\n",
       "      <td>13.698414</td>\n",
       "      <td>14625.250000</td>\n",
       "      <td>-2.065512</td>\n",
       "    </tr>\n",
       "    <tr>\n",
       "      <th>61</th>\n",
       "      <td>2021</td>\n",
       "      <td>231609.5</td>\n",
       "      <td>3.5</td>\n",
       "      <td>2011347.10</td>\n",
       "      <td>57.290</td>\n",
       "      <td>13.280217</td>\n",
       "      <td>14344.916667</td>\n",
       "      <td>3.703055</td>\n",
       "    </tr>\n",
       "    <tr>\n",
       "      <th>62</th>\n",
       "      <td>2022</td>\n",
       "      <td>291904.3</td>\n",
       "      <td>2.5</td>\n",
       "      <td>2436877.80</td>\n",
       "      <td>57.934</td>\n",
       "      <td>12.399659</td>\n",
       "      <td>14916.750000</td>\n",
       "      <td>5.308595</td>\n",
       "    </tr>\n",
       "  </tbody>\n",
       "</table>\n",
       "</div>"
      ],
      "text/plain": [
       "    Year  Export Value  Poverty  Tax Income  Urban Population  \\\n",
       "49  2009      116510.0     21.0   848763.20            49.134   \n",
       "50  2010      157779.1     18.3   995271.50            49.914   \n",
       "51  2011      203496.6     15.7  1210599.70            50.595   \n",
       "52  2012      190020.3     13.7  1338109.60            51.276   \n",
       "53  2013      182551.8     11.2  1438891.10            51.955   \n",
       "54  2014      175980.0      9.3  1550490.80            52.635   \n",
       "56  2016      145134.0      7.5  1555934.20            53.989   \n",
       "60  2020      163191.8      3.8  1647783.34            56.641   \n",
       "61  2021      231609.5      3.5  2011347.10            57.290   \n",
       "62  2022      291904.3      2.5  2436877.80            57.934   \n",
       "\n",
       "    Agriculture, Forestry, Fishing  Exchange Rate to US$  GDP Growth  \n",
       "49                       15.290148          10356.166667    4.628871  \n",
       "50                       13.929213           9078.250000    6.223854  \n",
       "51                       13.512287           8773.250000    6.169784  \n",
       "52                       13.373974           9418.583333    6.030051  \n",
       "53                       13.356699          10562.666667    5.557264  \n",
       "54                       13.336755          11884.500000    5.006668  \n",
       "56                       13.478749          13329.833333    5.033069  \n",
       "60                       13.698414          14625.250000   -2.065512  \n",
       "61                       13.280217          14344.916667    3.703055  \n",
       "62                       12.399659          14916.750000    5.308595  "
      ]
     },
     "execution_count": 6,
     "metadata": {},
     "output_type": "execute_result"
    }
   ],
   "source": [
    "df_clean"
   ]
  },
  {
   "cell_type": "code",
   "execution_count": 7,
   "id": "16f73865",
   "metadata": {},
   "outputs": [
    {
     "data": {
      "text/plain": [
       "<matplotlib.legend.Legend at 0x1ffe11313d0>"
      ]
     },
     "execution_count": 7,
     "metadata": {},
     "output_type": "execute_result"
    },
    {
     "data": {
      "image/png": "[encoded data removed]",
      "text/plain": [
       "<Figure size 640x480 with 1 Axes>"
      ]
     },
     "metadata": {},
     "output_type": "display_data"
    }
   ],
   "source": [
    "plt.plot(df_clean[\"Tax Income\"] / 100000, label = \"Tax\")\n",
    "plt.plot(df_clean[\"Export Value\"] / 10000, label = \"Export\")\n",
    "plt.plot(df_clean[\"Poverty\"], label = \"Poverty\")\n",
    "plt.plot(df_clean[\"Urban Population\"] / 10, label = \"Urban\")\n",
    "plt.plot(df_clean[\"Agriculture, Forestry, Fishing\"], label = \"AFF\")\n",
    "plt.plot(df_clean[\"Exchange Rate to US$\"] / 1000, label = \"Exchange\")\n",
    "plt.plot(df_clean[\"GDP Growth\"], label = \"GDP\")\n",
    "plt.legend(loc = 'upper right')"
   ]
  },
  {
   "cell_type": "code",
   "execution_count": 8,
   "id": "969b289d",
   "metadata": {},
   "outputs": [
    {
     "data": {
      "text/plain": [
       "<Axes: >"
      ]
     },
     "execution_count": 8,
     "metadata": {},
     "output_type": "execute_result"
    },
    {
     "data": {
      "image/png": "[encoded data removed]",
      "text/plain": [
       "<Figure size 640x480 with 2 Axes>"
      ]
     },
     "metadata": {},
     "output_type": "display_data"
    }
   ],
   "source": [
    "sns.heatmap(df_clean.corr(), annot=True)"
   ]
  },
  {
   "cell_type": "code",
   "execution_count": 9,
   "id": "2dbf3d04",
   "metadata": {},
   "outputs": [
    {
     "data": {
      "text/plain": [
       "<Axes: xlabel='Tax Income', ylabel='GDP Growth'>"
      ]
     },
     "execution_count": 9,
     "metadata": {},
     "output_type": "execute_result"
    },
    {
     "data": {
      "image/png": "[encoded data removed]",
      "text/plain": [
       "<Figure size 640x480 with 1 Axes>"
      ]
     },
     "metadata": {},
     "output_type": "display_data"
    }
   ],
   "source": [
    "sns.regplot(df_clean, x = \"Tax Income\", y = \"GDP Growth\")"
   ]
  },
  {
   "cell_type": "code",
   "execution_count": 10,
   "id": "3fe2305d",
   "metadata": {},
   "outputs": [],
   "source": [
    "lr = LinearRegression()"
   ]
  },
  {
   "cell_type": "code",
   "execution_count": 14,
   "id": "d65ab92a",
   "metadata": {},
   "outputs": [],
   "source": [
    "summary = lr.fit(df_clean.drop(\"GDP Growth\", axis = 1), df_clean[\"GDP Growth\"])"
   ]
  },
  {
   "cell_type": "code",
   "execution_count": 15,
   "id": "160882b8",
   "metadata": {},
   "outputs": [
    {
     "name": "stdout",
     "output_type": "stream",
     "text": [
      "LinearRegression()\n"
     ]
    }
   ],
   "source": [
    "print(summary)"
   ]
  },
  {
   "cell_type": "code",
   "execution_count": 17,
   "id": "d5312152",
   "metadata": {},
   "outputs": [
    {
     "data": {
      "text/plain": [
       "0.9854354504397438"
      ]
     },
     "execution_count": 17,
     "metadata": {},
     "output_type": "execute_result"
    }
   ],
   "source": [
    "summary.score(df_clean.drop(\"GDP Growth\", axis = 1), df_clean[\"GDP Growth\"])"
   ]
  },
  {
   "cell_type": "code",
   "execution_count": 12,
   "id": "28e6ae5d",
   "metadata": {},
   "outputs": [
    {
     "data": {
      "text/plain": [
       "array([-8.15276439e+01, -1.74167438e-05,  2.21497375e+00,  3.62083146e-05,\n",
       "        1.22017827e+02,  8.27229924e+00, -6.08395217e-04])"
      ]
     },
     "execution_count": 12,
     "metadata": {},
     "output_type": "execute_result"
    }
   ],
   "source": [
    "#'a' in ax+b model\n",
    "lr.coef_"
   ]
  },
  {
   "cell_type": "code",
   "execution_count": 13,
   "id": "9d855578",
   "metadata": {},
   "outputs": [
    {
     "data": {
      "text/plain": [
       "157603.00868661737"
      ]
     },
     "execution_count": 13,
     "metadata": {},
     "output_type": "execute_result"
    }
   ],
   "source": [
    "#'b' in ax+b model\n",
    "lr.intercept_"
   ]
  },
  {
   "cell_type": "code",
   "execution_count": null,
   "id": "e8437e5c",
   "metadata": {},
   "outputs": [],
   "source": []
  },
  {
   "cell_type": "code",
   "execution_count": 20,
   "id": "99ee3751",
   "metadata": {},
   "outputs": [],
   "source": [
    "Year = 2022\n",
    "EV = 291904.3\n",
    "Pov = 2.5\n",
    "Tax = 2436877.8\n",
    "Urban = 57.934\n",
    "AFF = 12.39965922\n",
    "ER = 14916.75\n",
    "test = np.array([Year, EV, Pov, Tax, Urban, AFF, ER]).reshape(1,-1)"
   ]
  },
  {
   "cell_type": "code",
   "execution_count": 21,
   "id": "67993cf4",
   "metadata": {},
   "outputs": [
    {
     "name": "stderr",
     "output_type": "stream",
     "text": [
      "C:\\ProgramData\\anaconda3\\envs\\DataMining\\lib\\site-packages\\sklearn\\base.py:439: UserWarning: X does not have valid feature names, but LinearRegression was fitted with feature names\n",
      "  warnings.warn(\n"
     ]
    },
    {
     "data": {
      "text/plain": [
       "array([5.28064518])"
      ]
     },
     "execution_count": 21,
     "metadata": {},
     "output_type": "execute_result"
    }
   ],
   "source": [
    "#Test Predicting the GDP Growth in 2022\n",
    "lr.predict(test)"
   ]
  },
  {
   "cell_type": "code",
   "execution_count": 22,
   "id": "11cee181",
   "metadata": {},
   "outputs": [
    {
     "data": {
      "text/plain": [
       "0.07884606852024287"
      ]
     },
     "execution_count": 22,
     "metadata": {},
     "output_type": "execute_result"
    }
   ],
   "source": [
    "mean_squared_error(df_clean[\"GDP Growth\"],lr.predict(df_clean.drop(\"GDP Growth\", axis = 1)))"
   ]
  },
  {
   "cell_type": "code",
   "execution_count": 23,
   "id": "06a17498",
   "metadata": {},
   "outputs": [
    {
     "data": {
      "text/plain": [
       "0.2207466664378174"
      ]
     },
     "execution_count": 23,
     "metadata": {},
     "output_type": "execute_result"
    }
   ],
   "source": [
    "mean_absolute_error(df_clean[\"GDP Growth\"],lr.predict(df_clean.drop(\"GDP Growth\", axis = 1)))"
   ]
  },
  {
   "cell_type": "code",
   "execution_count": 24,
   "id": "4aa0d44b",
   "metadata": {},
   "outputs": [],
   "source": [
    "Year = 2023\n",
    "EV = 313828.7\n",
    "Pov = 2\n",
    "Tax = 2443592.2\n",
    "Urban = 58.5\n",
    "AFF = 12.4\n",
    "ER = 15020.57143\n",
    "test2 = np.array([Year, EV, Pov, Tax, Urban, AFF, ER]).reshape(1,-1)"
   ]
  },
  {
   "cell_type": "code",
   "execution_count": 25,
   "id": "8d3ff107",
   "metadata": {},
   "outputs": [
    {
     "name": "stderr",
     "output_type": "stream",
     "text": [
      "C:\\ProgramData\\anaconda3\\envs\\DataMining\\lib\\site-packages\\sklearn\\base.py:439: UserWarning: X does not have valid feature names, but LinearRegression was fitted with feature names\n",
      "  warnings.warn(\n"
     ]
    },
    {
     "data": {
      "text/plain": [
       "array([-8.49147566])"
      ]
     },
     "execution_count": 25,
     "metadata": {},
     "output_type": "execute_result"
    }
   ],
   "source": [
    "lr.predict(test2)"
   ]
  },
  {
   "cell_type": "code",
   "execution_count": 26,
   "id": "2ff49c39",
   "metadata": {},
   "outputs": [
    {
     "name": "stdout",
     "output_type": "stream",
     "text": [
      "[-8.49147566]\n"
     ]
    }
   ],
   "source": [
    "print(np.dot(test2,lr.coef_) + lr.intercept_)"
   ]
  },
  {
   "cell_type": "code",
   "execution_count": 27,
   "id": "50661d2e",
   "metadata": {},
   "outputs": [
    {
     "data": {
      "text/plain": [
       "array([-157611.50016227])"
      ]
     },
     "execution_count": 27,
     "metadata": {},
     "output_type": "execute_result"
    }
   ],
   "source": [
    "np.dot(test2,lr.coef_)"
   ]
  },
  {
   "cell_type": "code",
   "execution_count": 28,
   "id": "673038ff",
   "metadata": {},
   "outputs": [
    {
     "data": {
      "text/plain": [
       "array([[2.02300000e+03, 3.13828700e+05, 2.00000000e+00, 2.44359220e+06,\n",
       "        5.85000000e+01, 1.24000000e+01, 1.50205714e+04]])"
      ]
     },
     "execution_count": 28,
     "metadata": {},
     "output_type": "execute_result"
    }
   ],
   "source": [
    "test2"
   ]
  },
  {
   "cell_type": "code",
   "execution_count": 29,
   "id": "e64e1d3f",
   "metadata": {},
   "outputs": [
    {
     "data": {
      "text/plain": [
       "array([-8.15276439e+01, -1.74167438e-05,  2.21497375e+00,  3.62083146e-05,\n",
       "        1.22017827e+02,  8.27229924e+00, -6.08395217e-04])"
      ]
     },
     "execution_count": 29,
     "metadata": {},
     "output_type": "execute_result"
    }
   ],
   "source": [
    "lr.coef_"
   ]
  },
  {
   "cell_type": "code",
   "execution_count": null,
   "id": "f17cb214",
   "metadata": {},
   "outputs": [],
   "source": []
  }
 ],
 "metadata": {
  "kernelspec": {
   "display_name": "Python 3 (ipykernel)",
   "language": "python",
   "name": "python3"
  },
  "language_info": {
   "codemirror_mode": {
    "name": "ipython",
    "version": 3
   },
   "file_extension": ".py",
   "mimetype": "text/x-python",
   "name": "python",
   "nbconvert_exporter": "python",
   "pygments_lexer": "ipython3",
   "version": "3.9.16"
  }
 },
 "nbformat": 4,
 "nbformat_minor": 5
}
